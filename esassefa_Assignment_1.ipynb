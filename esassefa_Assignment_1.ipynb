{
  "nbformat": 4,
  "nbformat_minor": 0,
  "metadata": {
    "kernelspec": {
      "display_name": "Python 3",
      "language": "python",
      "name": "python3"
    },
    "language_info": {
      "codemirror_mode": {
        "name": "ipython",
        "version": 3
      },
      "file_extension": ".py",
      "mimetype": "text/x-python",
      "name": "python",
      "nbconvert_exporter": "python",
      "pygments_lexer": "ipython3",
      "version": "3.5.3"
    },
    "colab": {
      "name": "esassefa_Assignment_1.ipynb",
      "provenance": [],
      "collapsed_sections": []
    },
    "accelerator": "GPU"
  },
  "cells": [
    {
      "cell_type": "markdown",
      "metadata": {
        "deletable": true,
        "editable": true,
        "id": "m_R4z-lmbSjo"
      },
      "source": [
        "<h2>Assignment 1 - Linear Regression on Boston Housing Data</h2>"
      ]
    },
    {
      "cell_type": "code",
      "metadata": {
        "deletable": true,
        "editable": true,
        "id": "WJ3cJxt3bSjp"
      },
      "source": [
        "# Elshaday Assefa\n",
        "#The modules we're going to use\n",
        "from __future__ import print_function\n",
        "from sklearn import preprocessing\n",
        "from sklearn.model_selection import train_test_split\n",
        "from sklearn import datasets, linear_model, metrics\n",
        "from scipy import linalg\n",
        "import numpy as np\n",
        "import matplotlib.pyplot as plt\n",
        "\n",
        "import pandas as pd\n",
        "\n",
        "# When you execute a code to plot with a simple SHIFT-ENTER, the plot will be shown directly under the code cell\n",
        "%matplotlib inline"
      ],
      "execution_count": null,
      "outputs": []
    },
    {
      "cell_type": "code",
      "metadata": {
        "id": "O7Q3ISkzl5yK",
        "colab": {
          "base_uri": "https://localhost:8080/",
          "height": 34
        },
        "outputId": "0a6c365e-84c0-452c-a691-a73e574ae746"
      },
      "source": [
        "!python --version"
      ],
      "execution_count": null,
      "outputs": [
        {
          "output_type": "stream",
          "text": [
            "Python 3.6.9\n"
          ],
          "name": "stdout"
        }
      ]
    },
    {
      "cell_type": "code",
      "metadata": {
        "id": "Vxy4JF9JmSXj"
      },
      "source": [
        "!cat /proc/cpuinfo"
      ],
      "execution_count": null,
      "outputs": []
    },
    {
      "cell_type": "code",
      "metadata": {
        "id": "ocQ4E_J4sCZH"
      },
      "source": [
        "!cat /proc/meminfo"
      ],
      "execution_count": null,
      "outputs": []
    },
    {
      "cell_type": "code",
      "metadata": {
        "id": "44Ucal_btMiG"
      },
      "source": [
        "!nvidia-smi"
      ],
      "execution_count": null,
      "outputs": []
    },
    {
      "cell_type": "code",
      "metadata": {
        "id": "eEMHYXcstqXX"
      },
      "source": [
        "from tensorflow.python.client import device_lib\n",
        "device_lib.list_local_devices()"
      ],
      "execution_count": null,
      "outputs": []
    },
    {
      "cell_type": "code",
      "metadata": {
        "id": "Vh4SlXpPuUoN"
      },
      "source": [
        "!pip list "
      ],
      "execution_count": null,
      "outputs": []
    },
    {
      "cell_type": "code",
      "metadata": {
        "deletable": true,
        "editable": true,
        "id": "VXXIgKFJbSjr"
      },
      "source": [
        "# Load data from scikit-learn, which returns (data, target)\n",
        "# note: if you call \"boston = load_boston()\", it returns a dictionary-like object\n",
        "data, target = datasets.load_boston(True)\n",
        "#preprocessed\n",
        "#print(target.shape)\n",
        "\n",
        "\n",
        "# Split the data into two parts: training data and testing data\n",
        "train_data,test_data,train_target,test_target = train_test_split(data,(target[:, np.newaxis]), test_size=0.2, random_state=42)\n",
        "\n",
        "\n",
        "\n",
        "\n",
        "\n"
      ],
      "execution_count": null,
      "outputs": []
    },
    {
      "cell_type": "markdown",
      "metadata": {
        "deletable": true,
        "editable": true,
        "id": "NA3ezrA-bSjt"
      },
      "source": [
        "<h4>Use scikit-learn library in the following cell</h4>"
      ]
    },
    {
      "cell_type": "code",
      "metadata": {
        "deletable": true,
        "editable": true,
        "id": "hlqomvfpbSjt",
        "colab": {
          "base_uri": "https://localhost:8080/",
          "height": 526
        },
        "outputId": "aab9ef4c-07ba-487a-c1ab-9fbd306b2587"
      },
      "source": [
        "# Task 1-1: use linear regression in sklearn\n",
        "model = linear_model.LinearRegression()\n",
        "model.fit(train_data, train_target)\n",
        "\n",
        "# Task 1-2: show intercept and coefficents\n",
        "\n",
        "print('intercept: ')\n",
        "print(model.intercept_)\n",
        "print('\\ncoefficients: ')\n",
        "print(model.coef_)\n",
        "\n",
        "\n",
        "# Task 1-3: show errors on training dataset and testing dataset\n",
        "predict1 = model.predict(train_data) #predict y values from given data\n",
        "\n",
        "#plt.scatter(train_target, predict1)\n",
        "mse1 = metrics.mean_squared_error(train_target, predict1, squared = False) #determine mse error from predicted y values against target\n",
        "print('\\nmse for training dataset:')\n",
        "print(mse1)\n",
        "\n",
        "print('\\n')\n",
        "predict2 = model.predict(test_data)\n",
        "\n",
        "\n",
        "\n",
        "#MSE\n",
        "mse2 = metrics.mean_squared_error(test_target, predict2, squared = False)\n",
        "print('mse for testing dataset:')\n",
        "print(mse2)\n",
        "\n"
      ],
      "execution_count": null,
      "outputs": [
        {
          "output_type": "stream",
          "text": [
            "intercept: \n",
            "[30.24675099]\n",
            "\n",
            "coefficients: \n",
            "[[-1.13055924e-01  3.01104641e-02  4.03807204e-02  2.78443820e+00\n",
            "  -1.72026334e+01  4.43883520e+00 -6.29636221e-03 -1.44786537e+00\n",
            "   2.62429736e-01 -1.06467863e-02 -9.15456240e-01  1.23513347e-02\n",
            "  -5.08571424e-01]]\n",
            "\n",
            "mse for training dataset:\n",
            "4.652033184880168\n",
            "\n",
            "\n",
            "mse for testing dataset:\n",
            "4.9286021826653466\n"
          ],
          "name": "stdout"
        },
        {
          "output_type": "display_data",
          "data": {
            "image/png": "[encoded data removed]",
            "text/plain": [
              "<Figure size 432x288 with 1 Axes>"
            ]
          },
          "metadata": {
            "tags": [],
            "needs_background": "light"
          }
        }
      ]
    },
    {
      "cell_type": "markdown",
      "metadata": {
        "deletable": true,
        "editable": true,
        "id": "RpX2tOa5bSjv"
      },
      "source": [
        "<h4>Use analytical solution (normal equation) to perform linear regression in the following cell</h4>"
      ]
    },
    {
      "cell_type": "code",
      "metadata": {
        "deletable": true,
        "editable": true,
        "id": "YZJJ0sUGbSjv",
        "colab": {
          "base_uri": "https://localhost:8080/",
          "height": 364
        },
        "outputId": "2910f6a3-90d8-48ae-c7dd-328b81910541"
      },
      "source": [
        "# Task 2-1: Implement a function solving normal equation \n",
        "# Inputs: Training data and  training label\n",
        "# Output: Weights\n",
        "def myNormalEqualFun(X,y):\n",
        "    w = np.linalg.inv(X.T.dot(X)).dot(X.T).dot(y) #function solving normal equation\n",
        "    #print(w.shape)\n",
        "    #print(w)\n",
        "   # Ignore:   m = np.zeros(X.shape) this is a test for the gradient function\n",
        "   # print(m.shape)\n",
        "    return w\n",
        "    \n",
        "# Task 2-2: Implement a function performing prediction\n",
        "# Inputs: Testing data and weights\n",
        "# Output: Predictions\n",
        "def myPredictFun(X,w):\n",
        "    return np.dot(X,w)#dot product of weights and training data\n",
        "\n",
        "# Here we insert a column of 1s into training_data and test_data (to be consistent with our lecture slides)\n",
        "\n",
        "train_data_intercept = np.insert(train_data, 0, 1, axis=1)\n",
        "test_data_intercept = np.insert(test_data, 0, 1, axis=1)\n",
        "\n",
        "# Here we call myNormalEqual to train the model and get weights\n",
        "\n",
        "w = myNormalEqualFun(train_data_intercept,train_target)\n",
        "\n",
        "\n",
        "\n",
        "# Task 2-3: show intercept and coefficents\n",
        "#COME BACK HERE!!!!!\n",
        "print('intercept:')\n",
        "print(w[0])\n",
        "print('coefficients')\n",
        "print(w[1:len(w)-1])\n",
        "\n",
        "\n",
        "\n",
        "# Task 2-4: show errors on training dataset and testing dataset\n",
        "train_prediction = myPredictFun(train_data_intercept, w) #y prediction using updated weights and train data\n",
        "test_prediction = myPredictFun(test_data_intercept, w)#y prediction using updated weights and test data\n",
        "\n",
        "print('mse for training dataset: ')\n",
        "norm_mse1 = metrics.mean_squared_error(train_target, train_prediction, squared = False)\n",
        "print (norm_mse1)\n",
        "\n",
        "print('\\nmse for testing dataset: ')\n",
        "norm_mse2 = metrics.mean_squared_error(test_target, test_prediction, squared = False)\n",
        "print(norm_mse2)\n"
      ],
      "execution_count": null,
      "outputs": [
        {
          "output_type": "stream",
          "text": [
            "intercept:\n",
            "[30.24675099]\n",
            "coefficients\n",
            "[[-1.13055924e-01]\n",
            " [ 3.01104641e-02]\n",
            " [ 4.03807204e-02]\n",
            " [ 2.78443820e+00]\n",
            " [-1.72026334e+01]\n",
            " [ 4.43883520e+00]\n",
            " [-6.29636221e-03]\n",
            " [-1.44786537e+00]\n",
            " [ 2.62429736e-01]\n",
            " [-1.06467863e-02]\n",
            " [-9.15456240e-01]\n",
            " [ 1.23513347e-02]]\n",
            "mse for training dataset: \n",
            "4.6520331848801675\n",
            "\n",
            "mse for testing dataset: \n",
            "4.928602182665711\n"
          ],
          "name": "stdout"
        }
      ]
    },
    {
      "cell_type": "markdown",
      "metadata": {
        "deletable": true,
        "editable": true,
        "id": "1hhVEfixbSjx"
      },
      "source": [
        "<h4>Use numerical solution (basic gradient descent) to perform linear regression in the following cell</h4>"
      ]
    },
    {
      "cell_type": "code",
      "metadata": {
        "deletable": true,
        "editable": true,
        "id": "3H1IxOBubSjy"
      },
      "source": [
        "# Feature scaling\n",
        "scaler = preprocessing.StandardScaler().fit(train_data)\n",
        "train_data = scaler.transform(train_data)\n",
        "test_data = scaler.transform(test_data)\n",
        "\n",
        "\n",
        "# Task 3-1: Implement a function performing gradient descent\n",
        "# Inputs: Training data, training label, learning rate, number of iterations\n",
        "# Output: the final Weights\n",
        "#         the loss history along iterations\n",
        "def myGradientDescentFun(X,y,learning_rate,numItrs, X_test, y_test):\n",
        "  \n",
        "  \n",
        "  w = np.zeros(X.shape[1])# creates one dimensional array [number of features + bias]\n",
        "  #w=np.random.rand(X.shape[1])\n",
        " \n",
        "  w2 = w.reshape(-1,1) #vector to array\n",
        "  \n",
        "  \n",
        "  n = X.shape[0] \n",
        " \n",
        "  iter = 0\n",
        "  #print(w2.shape)\n",
        "  losses = []\n",
        "  mse = 0.0\n",
        "  epochs = []\n",
        "  losses_test=[]\n",
        " \n",
        "  \n",
        "  for i in range(numItrs ) : \n",
        "  \n",
        "    y_prediction = myPredictFun(X,w2) #predict y values for weights before update\n",
        "    ytest_prediction = myPredictFun(X_test, w2)\n",
        "   \n",
        "    er = y_prediction-y #use prediction to find error\n",
        "    g = np.matmul(np.transpose(X),er)/float(n) #calculate gradient\n",
        "    #g = -2/n * X.T.dot(er)\n",
        "    #g = learning_rate*(np.linalg.inv(X.T.dot(X)).dot(X.T).dot(y))\n",
        "   \n",
        "    \n",
        "    w2 = w2 - learning_rate*g #update weights\n",
        "   \n",
        "  \n",
        "    #train_prediction = myPredictFun( X, w2)\n",
        "    \n",
        "    \n",
        "   \n",
        "  \n",
        "    \n",
        "\n",
        "    last = mse\n",
        "    \n",
        "    \n",
        "    mse = np.sqrt(np.square(np.subtract(y, y_prediction)).mean()) #squared error of the difference btw y and y predict\n",
        "    \n",
        "\n",
        "  \n",
        "    mse_test = np.sqrt(np.square(np.subtract(y_test,ytest_prediction)).mean()) #above but for testing data\n",
        "    \n",
        "  \n",
        "  \n",
        "  \n",
        "    if ((mse > last) and (iter >1)): #find iteration that locates global minimum\n",
        "      print('number of iterations: ')\n",
        "      print(iter)\n",
        "      break\n",
        "\n",
        "    losses.append(mse)\n",
        "    losses_test.append(mse_test)\n",
        "    iter = iter +1\n",
        "    epochs.append(iter)\n",
        "    \n",
        "    print(iter)\n",
        "    plt.plot(epochs,losses, 'g',label = 'Training Error' )\n",
        "    plt.plot(epochs, losses_test,'b', label = 'Testing Error' )\n",
        "    plt.legend()\n",
        "    plt.title('Cost Function')\n",
        "    plt.xlabel('# of iterations')\n",
        "    plt.ylabel('Loss')\n",
        "    plt.show()\n",
        "    print('-----------------------------------')\n",
        "    \n",
        "  return w2, losses, losses_test, epochs\n",
        "\n",
        "# Task 3-2: Implement a function performing prediction\n",
        "# Inputs: Testing data and weights\n",
        "# Output: Predictions\n",
        "def myPredictFun(X,w):\n",
        "    return np.matmul(X,w) #dot product of weights and training data\n",
        "\n",
        "# Here we insert a column of 1s into training_data and test_data (to be consistent with our lecture slides)\n",
        "train_data_intercept = np.insert(train_data, 0, 1, axis=1)\n",
        "test_data_intercept = np.insert(test_data, 0, 1, axis=1)\n",
        "\n",
        "# Here we call myGradientDescentFun to train the model and get weights\n",
        "# Note: you need to figure out good learning rate value and the number of iterations\n",
        "w, loss,loss_test, epochs = myGradientDescentFun(train_data_intercept,train_target,.05,300, test_data_intercept, test_target)\n",
        "#print(w)\n",
        "#print(loss)\n",
        "\n",
        "# Task 3-3: show intercept and coefficents\n",
        "print('intercept:')\n",
        "print(w[0])\n",
        "print('coefficients')\n",
        "print(w[1:len(w)-1])\n",
        "\n",
        "\n",
        "# Task 3-4: show errors on training dataset and testing dataset\n",
        "train_prediction = myPredictFun(train_data_intercept, w)\n",
        "print('Training Error:')\n",
        "print(np.sqrt(np.square(np.subtract(train_target, train_prediction)).mean()))\n",
        "\n",
        "test_prediction = myPredictFun(test_data_intercept, w)\n",
        "print('Testing Error:')\n",
        "print(np.sqrt(np.square(np.subtract(test_target, test_prediction)).mean()))\n",
        "\n",
        "# Task 3-5: plot learning curves showing training errors and testing errors along iterations\n",
        "\n",
        "plt.plot(epochs,loss,'g',label = 'Training Error')\n",
        "plt.plot(epochs, loss_test, 'b',label = 'Testing Error')\n",
        "plt.legend()\n",
        "plt.title('Cost Function')\n",
        "plt.xlabel('# of iterations')\n",
        "plt.ylabel('Loss')\n",
        "plt.show()"
      ],
      "execution_count": null,
      "outputs": []
    },
    {
      "cell_type": "markdown",
      "metadata": {
        "id": "Rx1UOqmfcNe0"
      },
      "source": [
        "<h4>Use numerical solution (stochastic gradient descent) to perform linear regression in the following cell</h4>"
      ]
    },
    {
      "cell_type": "code",
      "metadata": {
        "id": "96_WVyVKcNss"
      },
      "source": [
        "# Feature scaling\n",
        "scaler = preprocessing.StandardScaler().fit(train_data)\n",
        "train_data = scaler.transform(train_data)\n",
        "test_data = scaler.transform(test_data)\n",
        "\n",
        "\n",
        "# Task 4-1: Implement a function performing gradient descent\n",
        "# Inputs: Training data, training label, leaerning rate, number of epoches, batch size\n",
        "# Output: the final Weights\n",
        "#         the loss history along batches\n",
        "def myGradientDescentFun(X,y,learning_rate,epoches, batchsize, X_test, y_test):\n",
        "    train_size = X.shape[0]\n",
        "    test_size = X_test.shape[0] #testing data sizes\n",
        "    train_batches = int(train_size/batchsize) +1#finding number of batches to iterate through\n",
        "    test_batches = int(test_size/batchsize) +1 \n",
        "    m = batchsize #chose batchsize\n",
        "    train_leftover = train_size % m #last batch doesnt have the same ammount of data sets as previous\n",
        "    print(batchsize)\n",
        "    w = np.zeros(X.shape[1])# creates one dimensional array [number of features + bias]\n",
        "    w2 = w.reshape(-1,1) #array to vector\n",
        "  \n",
        "    \n",
        "    loss = []\n",
        "    mse = 0.0\n",
        "    epochs = []\n",
        "    loss_test=[]\n",
        "    iter = 0\n",
        "    \n",
        "    for i in range(epoches) :\n",
        "      for j in range(train_batches):\n",
        "        if j!= train_batches: #condition: all batches except last batch\n",
        "          y_prediction = myPredictFun(X[(j*m):((j+1)*m)],w2)\n",
        "          y_prediction_all = myPredictFun(X,w2) #predict y against whole training data set\n",
        "          ytest_prediction_all = myPredictFun(X_test, w2)#predict y against whole testing data set\n",
        "          #print(y_prediction.shape)\n",
        "          er = y_prediction - y[(j*m):((j+1)*m)] #use prediction and true y to find error\n",
        "          g = np.matmul(np.transpose(X[(j*m):((j+1)*m)]),er)/float(m) #calculate gradient\n",
        "          w2 = w2 - learning_rate*g #update weights\n",
        "           \n",
        "          losses_tr = np.sqrt(np.square(np.subtract(y, y_prediction_all)).mean()) #current training error\n",
        "          losses_test = np.sqrt(np.square(np.subtract(y_test, ytest_prediction_all)).mean())#current testing error\n",
        "          loss.append(losses_tr) #array of training errors\n",
        "          loss_test.append(losses_test)#array of testing errors\n",
        "          iter = iter+1 #count number of iterations for each epoch\n",
        "          epochs.append(iter) #add to epoch array (used for plotting)\n",
        "          \n",
        "          plt.plot(epochs, loss, 'g', label= 'Training Error')\n",
        "          plt.plot(epochs,loss_test,'b', label= 'Testing Error')\n",
        "          plt.title('Cost Function')\n",
        "          plt.xlabel('Batches per Epoch Updates')\n",
        "          plt.ylabel('Loss')\n",
        "          #plt.legend()\n",
        "          #plt.show()\n",
        "          \n",
        "        else: #last batch in epoch\n",
        "          y_prediction = myPredictFun(X[(j*m):((j*m)+ training_leftover)],w2) #same as above but for leftover training data\n",
        "          y_prediction_all = myPredictFun(X,w2)\n",
        "          ytest_prediction_all = myPredictFun(X_test, w2)\n",
        "\n",
        "          er = y_prediction - y[(j*m):((j*m)+ training_leftover)] #use prediction and true y to find error\n",
        "          g = np.matmul(np.transpose(X[(j*m):((j*m)+ training_leftover)]),er)/float(training_leftover) #calculate gradient\n",
        "          w2 = w2 - learning_rate*g #update weights\n",
        "\n",
        "          losses_tr = np.sqrt(np.square(np.subtract(y, y_prediction_all)).mean())\n",
        "          losses_test = np.sqrt(np.square(np.subtract(y_test, ytest_prediction_all)).mean())\n",
        "          loss.append(losses_tr)\n",
        "          loss_test.append(losses_test)\n",
        "          iter = iter+1\n",
        "          epochs.append(iter)\n",
        "          \n",
        "          plt.plot(epochs, loss, 'g', label= 'Training Error')\n",
        "          plt.plot(epochs,loss_test,'b', label= 'Testing Error')\n",
        "          plt.title('Cost Function')\n",
        "          plt.xlabel('Batches per Epoch Updates')\n",
        "          plt.ylabel('Loss')\n",
        "          #plt.legend()\n",
        "          #plt.show()\n",
        "          \n",
        "\n",
        "\n",
        "\n",
        "   \n",
        "\n",
        " \n",
        "    \n",
        "    return w2, loss, loss_test, epochs\n",
        "\n",
        "# Task 4-2: Implement a function performing prediction\n",
        "# Inputs: Testing data and weights\n",
        "# Output: Predictions\n",
        "def myPredictFun(X,w):\n",
        "    return np.matmul(X,w) #dot product of weights and training data\n",
        "\n",
        "# Here we insert a column of 1s into training_data and test_data (to be consistent with our lecture slides)\n",
        "train_data_intercept = np.insert(train_data, 0, 1, axis=1)\n",
        "test_data_intercept = np.insert(test_data, 0, 1, axis=1)\n",
        "#print(train_data_intercept.shape[1])\n",
        "train_size = train_data_intercept.shape[0]\n",
        "#print(test_data_intercept.shape[1])\n",
        "#print ('Sizes: ')\n",
        "test_size = test_data_intercept.shape[0]\n",
        "train_last_batch = train_size % 15\n",
        "test_last_batch = test_size % 15\n",
        "train_batches = int(train_size / 15) + 1\n",
        "test_batches = int(test_size/ 15) + 1\n",
        "\n",
        "\n",
        "\n",
        "\n",
        "\n",
        "# Here we call myGradientDescentFun to train the model and get weights\n",
        "# Note: you need to figure out good learning rate value and the number of iterations\n",
        "w, loss, loss_test, epochs = myGradientDescentFun(train_data_intercept,train_target,.05,10,15,test_data_intercept, test_target)\n",
        "#print(w)\n",
        "#print(loss[0:5])\n",
        "\n",
        "# Task 4-3: show intercept and coefficents\n",
        "print('intercept:')\n",
        "print(w[0])\n",
        "print('coefficients')\n",
        "print(w[1:len(w)-1])\n",
        "\n",
        "# Task 4-4: show errors on training dataset and testing dataset\n",
        "train_prediction = myPredictFun(train_data_intercept, w) #training prediction of final weights\n",
        "print('Training Error:')\n",
        "print(np.sqrt(np.square(np.subtract(train_target, train_prediction)).mean())) #training error\n",
        "\n",
        "test_prediction = myPredictFun(test_data_intercept, w)#testing prediction of final weights\n",
        "print('Testing Error:')\n",
        "print(np.sqrt(np.square(np.subtract(test_target, test_prediction)).mean())) #testing error\n",
        "\n",
        "# Task 4-5: plot learning curves showing training errors and testing errors along bath\n",
        "plt.plot(epochs,loss,'g',label = 'Training Error')\n",
        "plt.plot(epochs, loss_test, 'b', label = 'Testing Error' )\n",
        "plt.title('Cost Function')\n",
        "plt.xlabel('Batches per Epoch Updates')\n",
        "plt.ylabel('Loss')\n",
        "plt.legend()\n",
        "plt.show()"
      ],
      "execution_count": null,
      "outputs": []
    }
  ]
}